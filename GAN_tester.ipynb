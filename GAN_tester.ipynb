{
 "cells": [
  {
   "cell_type": "code",
   "execution_count": 1,
   "metadata": {
    "collapsed": true
   },
   "outputs": [],
   "source": [
    "import tensorflow as tf\n",
    "import numpy as np\n",
    "import matplotlib.pyplot as plt"
   ]
  },
  {
   "cell_type": "code",
   "execution_count": 2,
   "metadata": {},
   "outputs": [
    {
     "name": "stderr",
     "output_type": "stream",
     "text": [
      "Using TensorFlow backend.\n"
     ]
    }
   ],
   "source": [
    "from keras import layers as L\n",
    "from keras.models import Sequential"
   ]
  },
  {
   "cell_type": "markdown",
   "metadata": {},
   "source": [
    "## Loading data"
   ]
  },
  {
   "cell_type": "code",
   "execution_count": 257,
   "metadata": {
    "collapsed": true
   },
   "outputs": [],
   "source": [
    "data = np.load(\"data/next.npy\")"
   ]
  },
  {
   "cell_type": "markdown",
   "metadata": {},
   "source": [
    "First thing we need to do is to normalize data into $[-1, 1]$. We can simply use a $\\tanh$ function."
   ]
  },
  {
   "cell_type": "code",
   "execution_count": 250,
   "metadata": {
    "collapsed": true
   },
   "outputs": [],
   "source": [
    "data = np.tanh(data)"
   ]
  },
  {
   "cell_type": "code",
   "execution_count": 244,
   "metadata": {
    "scrolled": false
   },
   "outputs": [
    {
     "data": {
      "image/png": "[encoded data removed]",
      "text/plain": [
       "<matplotlib.figure.Figure at 0x7fdf89cfcb70>"
      ]
     },
     "metadata": {},
     "output_type": "display_data"
    },
    {
     "data": {
      "image/png": "[encoded data removed]",
      "text/plain": [
       "<matplotlib.figure.Figure at 0x7fdf5adf0748>"
      ]
     },
     "metadata": {},
     "output_type": "display_data"
    },
    {
     "data": {
      "image/png": "[encoded data removed]",
      "text/plain": [
       "<matplotlib.figure.Figure at 0x7fdf8aea4198>"
      ]
     },
     "metadata": {},
     "output_type": "display_data"
    },
    {
     "data": {
      "image/png": "[encoded data removed]",
      "text/plain": [
       "<matplotlib.figure.Figure at 0x7fdf5ab6e2e8>"
      ]
     },
     "metadata": {},
     "output_type": "display_data"
    },
    {
     "data": {
      "image/png": "[encoded data removed]",
      "text/plain": [
       "<matplotlib.figure.Figure at 0x7fdf5ae095c0>"
      ]
     },
     "metadata": {},
     "output_type": "display_data"
    }
   ],
   "source": [
    "for im in data[:5]:\n",
    "    plt.imshow(im, cmap=\"gray\")\n",
    "    plt.show()"
   ]
  },
  {
   "cell_type": "code",
   "execution_count": 7,
   "metadata": {
    "collapsed": true
   },
   "outputs": [],
   "source": [
    "s = tf.InteractiveSession(config=tf.ConfigProto(gpu_options=tf.GPUOptions(allow_growth=True)))"
   ]
  },
  {
   "cell_type": "markdown",
   "metadata": {},
   "source": [
    "The next thing we do is construct a NN configuration. In generator we usually use deconv layers."
   ]
  },
  {
   "cell_type": "code",
   "execution_count": 19,
   "metadata": {
    "collapsed": true
   },
   "outputs": [],
   "source": [
    "gen = Sequential()\n",
    "CODE_SIZE = 100\n",
    "\n",
    "gen.add(L.InputLayer([CODE_SIZE], name=\"Noise\"))\n",
    "gen.add(L.Dense(activation=\"relu\", units=7*7))\n",
    "\n",
    "gen.add(L.Reshape((7, 7, 1)))\n",
    "gen.add(L.Deconv2D(128,kernel_size=5,activation='relu'))\n",
    "gen.add(L.Deconv2D(128,kernel_size=5,activation='relu'))\n",
    "gen.add(L.Deconv2D(64,kernel_size=5,activation='relu'))\n",
    "gen.add(L.Deconv2D(64,kernel_size=5,activation='relu'))\n",
    "gen.add(L.Deconv2D(32,kernel_size=4,activation='relu'))\n",
    "gen.add(L.Deconv2D(32,kernel_size=4,activation='relu'))\n",
    "gen.add(L.Deconv2D(16,kernel_size=4,activation='relu'))\n",
    "\n",
    "gen.add(L.Conv2D(1,kernel_size=3,activation=\"tanh\"))"
   ]
  },
  {
   "cell_type": "code",
   "execution_count": 20,
   "metadata": {},
   "outputs": [
    {
     "data": {
      "text/plain": [
       "(30, 30, 1)"
      ]
     },
     "execution_count": 20,
     "metadata": {},
     "output_type": "execute_result"
    }
   ],
   "source": [
    "feedback_shape = gen.output_shape[1:]\n",
    "\n",
    "feedback_shape"
   ]
  },
  {
   "cell_type": "markdown",
   "metadata": {},
   "source": [
    "Discriminator is a simple classifier convolutional neural network."
   ]
  },
  {
   "cell_type": "code",
   "execution_count": 21,
   "metadata": {
    "collapsed": true
   },
   "outputs": [],
   "source": [
    "discriminator = Sequential()\n",
    "\n",
    "discriminator.add(L.InputLayer(gen.output_shape[1:]))\n",
    "discriminator.add(L.Conv2D(32,kernel_size=3,activation='relu'))\n",
    "discriminator.add(L.MaxPool2D(pool_size=(2,2)))\n",
    "discriminator.add(L.Conv2D(32,kernel_size=3,activation='relu'))\n",
    "discriminator.add(L.Conv2D(64,kernel_size=3,activation='relu'))\n",
    "discriminator.add(L.Conv2D(64,kernel_size=3,activation='relu'))\n",
    "discriminator.add(L.MaxPool2D(pool_size=(2,2)))\n",
    "discriminator.add(L.Conv2D(128,kernel_size=3,activation='relu'))\n",
    "discriminator.add(L.Flatten())\n",
    "discriminator.add(L.Dense(256,activation='tanh'))\n",
    "discriminator.add(L.Dense(2,activation=tf.nn.log_softmax))"
   ]
  },
  {
   "cell_type": "code",
   "execution_count": 22,
   "metadata": {},
   "outputs": [
    {
     "data": {
      "text/plain": [
       "(None, 2)"
      ]
     },
     "execution_count": 22,
     "metadata": {},
     "output_type": "execute_result"
    }
   ],
   "source": [
    "discriminator.output_shape"
   ]
  },
  {
   "cell_type": "markdown",
   "metadata": {},
   "source": [
    "Computing losses"
   ]
  },
  {
   "cell_type": "code",
   "execution_count": 23,
   "metadata": {
    "collapsed": true
   },
   "outputs": [],
   "source": [
    "noise = tf.placeholder('float32',[None,CODE_SIZE])\n",
    "real_data = tf.placeholder('float32',[None,]+list(feedback_shape))\n",
    "\n",
    "diff_real = discriminator(real_data)\n",
    "\n",
    "generated_data = gen(noise)\n",
    "diff_generated = discriminator(generated_data)\n",
    "\n",
    "d_loss = -tf.reduce_mean(diff_real[:,1] + diff_generated[:,0])\n",
    "\n",
    "d_loss += tf.reduce_mean(discriminator.layers[-1].kernel**2)\n",
    "\n",
    "disc_optimizer =  tf.train.GradientDescentOptimizer(1e-3).minimize(d_loss, var_list=discriminator.trainable_weights)\n",
    "\n",
    "g_loss = -tf.reduce_mean(diff_generated[:,1])\n",
    "\n",
    "gen_optimizer = tf.train.AdamOptimizer(1e-4).minimize(g_loss,var_list=gen.trainable_weights)"
   ]
  },
  {
   "cell_type": "code",
   "execution_count": 24,
   "metadata": {
    "collapsed": true
   },
   "outputs": [],
   "source": [
    "s.run(tf.global_variables_initializer())"
   ]
  },
  {
   "cell_type": "code",
   "execution_count": 25,
   "metadata": {
    "collapsed": true
   },
   "outputs": [],
   "source": [
    "def sample_noise_batch(bsize):\n",
    "    noise =np.random.normal(size=(bsize, CODE_SIZE)).astype('float32') \n",
    "    return noise\n",
    "\n",
    "def sample_data_batch(bsize):\n",
    "    idxs = np.random.choice(np.arange(data.shape[0]), size=bsize)\n",
    "    return data[idxs].reshape((-1, 30, 30, 1))\n",
    "\n",
    "def sample_images(nrow,ncol, sharp=False):\n",
    "    images = gen.predict(sample_noise_batch(bsize=nrow*ncol))\n",
    "    if np.var(images)!=0:\n",
    "        images = images.clip(np.min(data),np.max(data))\n",
    "    for i in range(nrow*ncol):\n",
    "        plt.subplot(nrow,ncol,i+1)\n",
    "        if sharp:\n",
    "            print(images[i].shape)\n",
    "            plt.imshow(images[i].reshape(30,30),cmap=\"gray\", interpolation=\"none\")\n",
    "        else:\n",
    "            plt.imshow(images[i].reshape(30,30),cmap=\"gray\")\n",
    "    plt.show()\n",
    "    return images\n",
    "\n",
    "def sample_probas(bsize):\n",
    "    plt.title('Generated vs real data')\n",
    "    plt.hist(np.exp(discriminator.predict(sample_data_batch(bsize)))[:,1],\n",
    "             label='D(x)', alpha=0.5,range=[0,1])\n",
    "    plt.hist(np.exp(discriminator.predict(gen.predict(sample_noise_batch(bsize))))[:,1],\n",
    "             label='D(G(z))',alpha=0.5,range=[0,1])\n",
    "    plt.legend(loc='best')\n",
    "    plt.show()\n",
    "    \n",
    "def sample_many_images(how_many):\n",
    "    images = gen.predict(sample_noise_batch(bsize=how_many)).reshape(-1, 30, 30)\n",
    "    return images"
   ]
  },
  {
   "cell_type": "code",
   "execution_count": 59,
   "metadata": {},
   "outputs": [
    {
     "name": "stdout",
     "output_type": "stream",
     "text": [
      "(30, 30, 1)\n"
     ]
    },
    {
     "data": {
      "image/png": "[encoded data removed]",
      "text/plain": [
       "<matplotlib.figure.Figure at 0x7fdf89c606d8>"
      ]
     },
     "metadata": {},
     "output_type": "display_data"
    },
    {
     "data": {
      "text/plain": [
       "array([[[[-0.98527551],\n",
       "         [-0.99979019],\n",
       "         [-0.99999881],\n",
       "         [-1.        ],\n",
       "         [-1.        ],\n",
       "         [-1.        ],\n",
       "         [-1.        ],\n",
       "         [-1.        ],\n",
       "         [-1.        ],\n",
       "         [-1.        ],\n",
       "         [-1.        ],\n",
       "         [-1.        ],\n",
       "         [-1.        ],\n",
       "         [-1.        ],\n",
       "         [-1.        ],\n",
       "         [-1.        ],\n",
       "         [-1.        ],\n",
       "         [-1.        ],\n",
       "         [-1.        ],\n",
       "         [-1.        ],\n",
       "         [-1.        ],\n",
       "         [-1.        ],\n",
       "         [-1.        ],\n",
       "         [-1.        ],\n",
       "         [-1.        ],\n",
       "         [-1.        ],\n",
       "         [-1.        ],\n",
       "         [-1.        ],\n",
       "         [-0.99999058],\n",
       "         [-0.99814063]],\n",
       "\n",
       "        [[-0.99933809],\n",
       "         [-0.99999934],\n",
       "         [-1.        ],\n",
       "         [-1.        ],\n",
       "         [-1.        ],\n",
       "         [-1.        ],\n",
       "         [-1.        ],\n",
       "         [-1.        ],\n",
       "         [-1.        ],\n",
       "         [-1.        ],\n",
       "         [-1.        ],\n",
       "         [-1.        ],\n",
       "         [-1.        ],\n",
       "         [-1.        ],\n",
       "         [-1.        ],\n",
       "         [-1.        ],\n",
       "         [-1.        ],\n",
       "         [-1.        ],\n",
       "         [-1.        ],\n",
       "         [-1.        ],\n",
       "         [-1.        ],\n",
       "         [-1.        ],\n",
       "         [-1.        ],\n",
       "         [-1.        ],\n",
       "         [-1.        ],\n",
       "         [-1.        ],\n",
       "         [-1.        ],\n",
       "         [-1.        ],\n",
       "         [-1.        ],\n",
       "         [-0.99998289]],\n",
       "\n",
       "        [[-0.99998873],\n",
       "         [-1.        ],\n",
       "         [-1.        ],\n",
       "         [-1.        ],\n",
       "         [-1.        ],\n",
       "         [-1.        ],\n",
       "         [-1.        ],\n",
       "         [-1.        ],\n",
       "         [-1.        ],\n",
       "         [-1.        ],\n",
       "         [-1.        ],\n",
       "         [-1.        ],\n",
       "         [-1.        ],\n",
       "         [-1.        ],\n",
       "         [-1.        ],\n",
       "         [-1.        ],\n",
       "         [-1.        ],\n",
       "         [-1.        ],\n",
       "         [-1.        ],\n",
       "         [-1.        ],\n",
       "         [-1.        ],\n",
       "         [-1.        ],\n",
       "         [-1.        ],\n",
       "         [-1.        ],\n",
       "         [-1.        ],\n",
       "         [-1.        ],\n",
       "         [-1.        ],\n",
       "         [-1.        ],\n",
       "         [-1.        ],\n",
       "         [-1.        ]],\n",
       "\n",
       "        [[-0.99999976],\n",
       "         [-1.        ],\n",
       "         [-1.        ],\n",
       "         [-1.        ],\n",
       "         [-1.        ],\n",
       "         [-1.        ],\n",
       "         [-1.        ],\n",
       "         [-1.        ],\n",
       "         [-1.        ],\n",
       "         [-1.        ],\n",
       "         [-1.        ],\n",
       "         [-1.        ],\n",
       "         [-1.        ],\n",
       "         [-1.        ],\n",
       "         [-1.        ],\n",
       "         [-1.        ],\n",
       "         [-1.        ],\n",
       "         [-1.        ],\n",
       "         [-1.        ],\n",
       "         [-1.        ],\n",
       "         [-1.        ],\n",
       "         [-1.        ],\n",
       "         [-1.        ],\n",
       "         [-1.        ],\n",
       "         [-1.        ],\n",
       "         [-1.        ],\n",
       "         [-1.        ],\n",
       "         [-1.        ],\n",
       "         [-1.        ],\n",
       "         [-1.        ]],\n",
       "\n",
       "        [[-1.        ],\n",
       "         [-1.        ],\n",
       "         [-1.        ],\n",
       "         [-1.        ],\n",
       "         [-1.        ],\n",
       "         [-1.        ],\n",
       "         [-1.        ],\n",
       "         [-1.        ],\n",
       "         [-1.        ],\n",
       "         [-1.        ],\n",
       "         [-1.        ],\n",
       "         [-1.        ],\n",
       "         [-1.        ],\n",
       "         [-1.        ],\n",
       "         [-1.        ],\n",
       "         [-1.        ],\n",
       "         [-1.        ],\n",
       "         [-1.        ],\n",
       "         [-1.        ],\n",
       "         [-1.        ],\n",
       "         [-1.        ],\n",
       "         [-1.        ],\n",
       "         [-1.        ],\n",
       "         [-1.        ],\n",
       "         [-1.        ],\n",
       "         [-1.        ],\n",
       "         [-1.        ],\n",
       "         [-1.        ],\n",
       "         [-1.        ],\n",
       "         [-1.        ]],\n",
       "\n",
       "        [[-1.        ],\n",
       "         [-1.        ],\n",
       "         [-1.        ],\n",
       "         [-1.        ],\n",
       "         [-1.        ],\n",
       "         [-1.        ],\n",
       "         [-1.        ],\n",
       "         [-1.        ],\n",
       "         [-1.        ],\n",
       "         [-1.        ],\n",
       "         [-1.        ],\n",
       "         [-1.        ],\n",
       "         [-1.        ],\n",
       "         [-1.        ],\n",
       "         [-1.        ],\n",
       "         [-1.        ],\n",
       "         [-1.        ],\n",
       "         [-1.        ],\n",
       "         [-1.        ],\n",
       "         [-1.        ],\n",
       "         [-1.        ],\n",
       "         [-1.        ],\n",
       "         [-1.        ],\n",
       "         [-1.        ],\n",
       "         [-1.        ],\n",
       "         [-1.        ],\n",
       "         [-1.        ],\n",
       "         [-1.        ],\n",
       "         [-1.        ],\n",
       "         [-1.        ]],\n",
       "\n",
       "        [[-1.        ],\n",
       "         [-1.        ],\n",
       "         [-1.        ],\n",
       "         [-1.        ],\n",
       "         [-1.        ],\n",
       "         [-1.        ],\n",
       "         [-1.        ],\n",
       "         [-1.        ],\n",
       "         [-1.        ],\n",
       "         [-1.        ],\n",
       "         [-1.        ],\n",
       "         [-1.        ],\n",
       "         [-1.        ],\n",
       "         [-1.        ],\n",
       "         [-1.        ],\n",
       "         [-1.        ],\n",
       "         [-1.        ],\n",
       "         [-1.        ],\n",
       "         [-1.        ],\n",
       "         [-1.        ],\n",
       "         [-1.        ],\n",
       "         [-1.        ],\n",
       "         [-1.        ],\n",
       "         [-1.        ],\n",
       "         [-1.        ],\n",
       "         [-1.        ],\n",
       "         [-1.        ],\n",
       "         [-1.        ],\n",
       "         [-1.        ],\n",
       "         [-1.        ]],\n",
       "\n",
       "        [[-1.        ],\n",
       "         [-1.        ],\n",
       "         [-1.        ],\n",
       "         [-1.        ],\n",
       "         [-1.        ],\n",
       "         [-1.        ],\n",
       "         [-1.        ],\n",
       "         [-1.        ],\n",
       "         [-1.        ],\n",
       "         [-1.        ],\n",
       "         [-1.        ],\n",
       "         [-1.        ],\n",
       "         [-1.        ],\n",
       "         [-1.        ],\n",
       "         [-1.        ],\n",
       "         [-1.        ],\n",
       "         [-1.        ],\n",
       "         [-1.        ],\n",
       "         [-1.        ],\n",
       "         [-1.        ],\n",
       "         [-1.        ],\n",
       "         [-1.        ],\n",
       "         [-1.        ],\n",
       "         [-1.        ],\n",
       "         [-1.        ],\n",
       "         [-1.        ],\n",
       "         [-1.        ],\n",
       "         [-1.        ],\n",
       "         [-1.        ],\n",
       "         [-1.        ]],\n",
       "\n",
       "        [[-1.        ],\n",
       "         [-1.        ],\n",
       "         [-1.        ],\n",
       "         [-1.        ],\n",
       "         [-1.        ],\n",
       "         [-1.        ],\n",
       "         [-1.        ],\n",
       "         [-1.        ],\n",
       "         [-1.        ],\n",
       "         [-1.        ],\n",
       "         [-1.        ],\n",
       "         [-1.        ],\n",
       "         [-1.        ],\n",
       "         [-1.        ],\n",
       "         [-1.        ],\n",
       "         [-1.        ],\n",
       "         [-1.        ],\n",
       "         [-1.        ],\n",
       "         [-1.        ],\n",
       "         [-1.        ],\n",
       "         [-1.        ],\n",
       "         [-1.        ],\n",
       "         [-1.        ],\n",
       "         [-1.        ],\n",
       "         [-1.        ],\n",
       "         [-1.        ],\n",
       "         [-1.        ],\n",
       "         [-1.        ],\n",
       "         [-1.        ],\n",
       "         [-1.        ]],\n",
       "\n",
       "        [[-1.        ],\n",
       "         [-1.        ],\n",
       "         [-1.        ],\n",
       "         [-1.        ],\n",
       "         [-1.        ],\n",
       "         [-1.        ],\n",
       "         [-1.        ],\n",
       "         [-1.        ],\n",
       "         [-1.        ],\n",
       "         [-1.        ],\n",
       "         [-1.        ],\n",
       "         [-1.        ],\n",
       "         [-1.        ],\n",
       "         [-1.        ],\n",
       "         [-1.        ],\n",
       "         [-1.        ],\n",
       "         [-1.        ],\n",
       "         [-1.        ],\n",
       "         [-1.        ],\n",
       "         [-1.        ],\n",
       "         [-1.        ],\n",
       "         [-1.        ],\n",
       "         [-1.        ],\n",
       "         [-1.        ],\n",
       "         [-1.        ],\n",
       "         [-1.        ],\n",
       "         [-1.        ],\n",
       "         [-1.        ],\n",
       "         [-1.        ],\n",
       "         [-1.        ]],\n",
       "\n",
       "        [[-1.        ],\n",
       "         [-1.        ],\n",
       "         [-1.        ],\n",
       "         [-1.        ],\n",
       "         [-1.        ],\n",
       "         [-1.        ],\n",
       "         [-1.        ],\n",
       "         [-1.        ],\n",
       "         [-1.        ],\n",
       "         [-1.        ],\n",
       "         [-1.        ],\n",
       "         [-1.        ],\n",
       "         [-1.        ],\n",
       "         [-1.        ],\n",
       "         [-1.        ],\n",
       "         [-1.        ],\n",
       "         [-1.        ],\n",
       "         [-1.        ],\n",
       "         [-1.        ],\n",
       "         [-1.        ],\n",
       "         [-1.        ],\n",
       "         [-1.        ],\n",
       "         [-1.        ],\n",
       "         [-1.        ],\n",
       "         [-1.        ],\n",
       "         [-1.        ],\n",
       "         [-1.        ],\n",
       "         [-1.        ],\n",
       "         [-1.        ],\n",
       "         [-1.        ]],\n",
       "\n",
       "        [[-1.        ],\n",
       "         [-1.        ],\n",
       "         [-1.        ],\n",
       "         [-1.        ],\n",
       "         [-1.        ],\n",
       "         [-1.        ],\n",
       "         [-1.        ],\n",
       "         [-1.        ],\n",
       "         [-1.        ],\n",
       "         [-1.        ],\n",
       "         [-1.        ],\n",
       "         [-1.        ],\n",
       "         [-1.        ],\n",
       "         [-1.        ],\n",
       "         [-1.        ],\n",
       "         [-1.        ],\n",
       "         [-1.        ],\n",
       "         [-1.        ],\n",
       "         [-1.        ],\n",
       "         [-1.        ],\n",
       "         [-1.        ],\n",
       "         [-1.        ],\n",
       "         [-1.        ],\n",
       "         [-1.        ],\n",
       "         [-1.        ],\n",
       "         [-1.        ],\n",
       "         [-1.        ],\n",
       "         [-1.        ],\n",
       "         [-1.        ],\n",
       "         [-1.        ]],\n",
       "\n",
       "        [[-1.        ],\n",
       "         [-1.        ],\n",
       "         [-1.        ],\n",
       "         [-1.        ],\n",
       "         [-1.        ],\n",
       "         [-1.        ],\n",
       "         [-1.        ],\n",
       "         [-1.        ],\n",
       "         [-1.        ],\n",
       "         [-1.        ],\n",
       "         [-1.        ],\n",
       "         [-1.        ],\n",
       "         [-1.        ],\n",
       "         [-1.        ],\n",
       "         [-1.        ],\n",
       "         [-1.        ],\n",
       "         [-1.        ],\n",
       "         [-1.        ],\n",
       "         [-1.        ],\n",
       "         [-1.        ],\n",
       "         [-1.        ],\n",
       "         [-1.        ],\n",
       "         [-1.        ],\n",
       "         [-1.        ],\n",
       "         [-1.        ],\n",
       "         [-1.        ],\n",
       "         [-1.        ],\n",
       "         [-1.        ],\n",
       "         [-1.        ],\n",
       "         [-1.        ]],\n",
       "\n",
       "        [[-1.        ],\n",
       "         [-1.        ],\n",
       "         [-1.        ],\n",
       "         [-1.        ],\n",
       "         [-1.        ],\n",
       "         [-1.        ],\n",
       "         [-1.        ],\n",
       "         [-1.        ],\n",
       "         [-1.        ],\n",
       "         [-1.        ],\n",
       "         [-1.        ],\n",
       "         [-1.        ],\n",
       "         [-1.        ],\n",
       "         [ 0.5313524 ],\n",
       "         [ 0.99448138],\n",
       "         [ 0.99477005],\n",
       "         [ 0.30841854],\n",
       "         [-1.        ],\n",
       "         [-1.        ],\n",
       "         [-1.        ],\n",
       "         [-1.        ],\n",
       "         [-1.        ],\n",
       "         [-1.        ],\n",
       "         [-1.        ],\n",
       "         [-1.        ],\n",
       "         [-1.        ],\n",
       "         [-1.        ],\n",
       "         [-1.        ],\n",
       "         [-1.        ],\n",
       "         [-1.        ]],\n",
       "\n",
       "        [[-1.        ],\n",
       "         [-1.        ],\n",
       "         [-1.        ],\n",
       "         [-1.        ],\n",
       "         [-1.        ],\n",
       "         [-1.        ],\n",
       "         [-1.        ],\n",
       "         [-1.        ],\n",
       "         [-1.        ],\n",
       "         [-1.        ],\n",
       "         [-1.        ],\n",
       "         [-1.        ],\n",
       "         [-1.        ],\n",
       "         [ 0.99303126],\n",
       "         [ 0.9997173 ],\n",
       "         [ 0.99979681],\n",
       "         [ 0.99657488],\n",
       "         [-1.        ],\n",
       "         [-1.        ],\n",
       "         [-1.        ],\n",
       "         [-1.        ],\n",
       "         [-1.        ],\n",
       "         [-1.        ],\n",
       "         [-1.        ],\n",
       "         [-1.        ],\n",
       "         [-1.        ],\n",
       "         [-1.        ],\n",
       "         [-1.        ],\n",
       "         [-1.        ],\n",
       "         [-1.        ]],\n",
       "\n",
       "        [[-1.        ],\n",
       "         [-1.        ],\n",
       "         [-1.        ],\n",
       "         [-1.        ],\n",
       "         [-1.        ],\n",
       "         [-1.        ],\n",
       "         [-1.        ],\n",
       "         [-1.        ],\n",
       "         [-1.        ],\n",
       "         [-1.        ],\n",
       "         [-1.        ],\n",
       "         [-1.        ],\n",
       "         [-1.        ],\n",
       "         [ 0.99445337],\n",
       "         [ 0.99975103],\n",
       "         [ 0.99990499],\n",
       "         [ 0.99853426],\n",
       "         [-1.        ],\n",
       "         [-1.        ],\n",
       "         [-1.        ],\n",
       "         [-1.        ],\n",
       "         [-1.        ],\n",
       "         [-1.        ],\n",
       "         [-1.        ],\n",
       "         [-1.        ],\n",
       "         [-1.        ],\n",
       "         [-1.        ],\n",
       "         [-1.        ],\n",
       "         [-1.        ],\n",
       "         [-1.        ]],\n",
       "\n",
       "        [[-1.        ],\n",
       "         [-1.        ],\n",
       "         [-1.        ],\n",
       "         [-1.        ],\n",
       "         [-1.        ],\n",
       "         [-1.        ],\n",
       "         [-1.        ],\n",
       "         [-1.        ],\n",
       "         [-1.        ],\n",
       "         [-1.        ],\n",
       "         [-1.        ],\n",
       "         [-1.        ],\n",
       "         [-1.        ],\n",
       "         [ 0.96105391],\n",
       "         [ 0.9973681 ],\n",
       "         [ 0.99854547],\n",
       "         [ 0.02617741],\n",
       "         [-1.        ],\n",
       "         [-1.        ],\n",
       "         [-1.        ],\n",
       "         [-1.        ],\n",
       "         [-1.        ],\n",
       "         [-1.        ],\n",
       "         [-1.        ],\n",
       "         [-1.        ],\n",
       "         [-1.        ],\n",
       "         [-1.        ],\n",
       "         [-1.        ],\n",
       "         [-1.        ],\n",
       "         [-1.        ]],\n",
       "\n",
       "        [[-1.        ],\n",
       "         [-1.        ],\n",
       "         [-1.        ],\n",
       "         [-1.        ],\n",
       "         [-1.        ],\n",
       "         [-1.        ],\n",
       "         [-1.        ],\n",
       "         [-1.        ],\n",
       "         [-1.        ],\n",
       "         [-1.        ],\n",
       "         [-1.        ],\n",
       "         [-1.        ],\n",
       "         [-1.        ],\n",
       "         [-1.        ],\n",
       "         [-0.98265105],\n",
       "         [-1.        ],\n",
       "         [-1.        ],\n",
       "         [-1.        ],\n",
       "         [-1.        ],\n",
       "         [-1.        ],\n",
       "         [-1.        ],\n",
       "         [-1.        ],\n",
       "         [-1.        ],\n",
       "         [-1.        ],\n",
       "         [-1.        ],\n",
       "         [-1.        ],\n",
       "         [-1.        ],\n",
       "         [-1.        ],\n",
       "         [-1.        ],\n",
       "         [-1.        ]],\n",
       "\n",
       "        [[-1.        ],\n",
       "         [-1.        ],\n",
       "         [-1.        ],\n",
       "         [-1.        ],\n",
       "         [-1.        ],\n",
       "         [-1.        ],\n",
       "         [-1.        ],\n",
       "         [-1.        ],\n",
       "         [-1.        ],\n",
       "         [-1.        ],\n",
       "         [-1.        ],\n",
       "         [-1.        ],\n",
       "         [-1.        ],\n",
       "         [-1.        ],\n",
       "         [-1.        ],\n",
       "         [-1.        ],\n",
       "         [-1.        ],\n",
       "         [-1.        ],\n",
       "         [-1.        ],\n",
       "         [-1.        ],\n",
       "         [-1.        ],\n",
       "         [-1.        ],\n",
       "         [-1.        ],\n",
       "         [-1.        ],\n",
       "         [-1.        ],\n",
       "         [-1.        ],\n",
       "         [-1.        ],\n",
       "         [-1.        ],\n",
       "         [-1.        ],\n",
       "         [-1.        ]],\n",
       "\n",
       "        [[-1.        ],\n",
       "         [-1.        ],\n",
       "         [-1.        ],\n",
       "         [-1.        ],\n",
       "         [-1.        ],\n",
       "         [-1.        ],\n",
       "         [-1.        ],\n",
       "         [-1.        ],\n",
       "         [-1.        ],\n",
       "         [-1.        ],\n",
       "         [-1.        ],\n",
       "         [-1.        ],\n",
       "         [-1.        ],\n",
       "         [-1.        ],\n",
       "         [-1.        ],\n",
       "         [-1.        ],\n",
       "         [-1.        ],\n",
       "         [-1.        ],\n",
       "         [-1.        ],\n",
       "         [-1.        ],\n",
       "         [-1.        ],\n",
       "         [-1.        ],\n",
       "         [-1.        ],\n",
       "         [-1.        ],\n",
       "         [-1.        ],\n",
       "         [-1.        ],\n",
       "         [-1.        ],\n",
       "         [-1.        ],\n",
       "         [-1.        ],\n",
       "         [-1.        ]],\n",
       "\n",
       "        [[-1.        ],\n",
       "         [-1.        ],\n",
       "         [-1.        ],\n",
       "         [-1.        ],\n",
       "         [-1.        ],\n",
       "         [-1.        ],\n",
       "         [-1.        ],\n",
       "         [-1.        ],\n",
       "         [-1.        ],\n",
       "         [-1.        ],\n",
       "         [-1.        ],\n",
       "         [-1.        ],\n",
       "         [-1.        ],\n",
       "         [-1.        ],\n",
       "         [-1.        ],\n",
       "         [-1.        ],\n",
       "         [-1.        ],\n",
       "         [-1.        ],\n",
       "         [-1.        ],\n",
       "         [-1.        ],\n",
       "         [-1.        ],\n",
       "         [-1.        ],\n",
       "         [-1.        ],\n",
       "         [-1.        ],\n",
       "         [-1.        ],\n",
       "         [-1.        ],\n",
       "         [-1.        ],\n",
       "         [-1.        ],\n",
       "         [-1.        ],\n",
       "         [-1.        ]],\n",
       "\n",
       "        [[-1.        ],\n",
       "         [-1.        ],\n",
       "         [-1.        ],\n",
       "         [-1.        ],\n",
       "         [-1.        ],\n",
       "         [-1.        ],\n",
       "         [-1.        ],\n",
       "         [-1.        ],\n",
       "         [-1.        ],\n",
       "         [-1.        ],\n",
       "         [-1.        ],\n",
       "         [-1.        ],\n",
       "         [-1.        ],\n",
       "         [-1.        ],\n",
       "         [-1.        ],\n",
       "         [-1.        ],\n",
       "         [-1.        ],\n",
       "         [-1.        ],\n",
       "         [-1.        ],\n",
       "         [-1.        ],\n",
       "         [-1.        ],\n",
       "         [-1.        ],\n",
       "         [-1.        ],\n",
       "         [-1.        ],\n",
       "         [-1.        ],\n",
       "         [-1.        ],\n",
       "         [-1.        ],\n",
       "         [-1.        ],\n",
       "         [-1.        ],\n",
       "         [-1.        ]],\n",
       "\n",
       "        [[-1.        ],\n",
       "         [-1.        ],\n",
       "         [-1.        ],\n",
       "         [-1.        ],\n",
       "         [-1.        ],\n",
       "         [-1.        ],\n",
       "         [-1.        ],\n",
       "         [-1.        ],\n",
       "         [-1.        ],\n",
       "         [-1.        ],\n",
       "         [-1.        ],\n",
       "         [-1.        ],\n",
       "         [-1.        ],\n",
       "         [-1.        ],\n",
       "         [-1.        ],\n",
       "         [-1.        ],\n",
       "         [-1.        ],\n",
       "         [-1.        ],\n",
       "         [-1.        ],\n",
       "         [-1.        ],\n",
       "         [-1.        ],\n",
       "         [-1.        ],\n",
       "         [-1.        ],\n",
       "         [-1.        ],\n",
       "         [-1.        ],\n",
       "         [-1.        ],\n",
       "         [-1.        ],\n",
       "         [-1.        ],\n",
       "         [-1.        ],\n",
       "         [-1.        ]],\n",
       "\n",
       "        [[-0.99999988],\n",
       "         [-1.        ],\n",
       "         [-1.        ],\n",
       "         [-1.        ],\n",
       "         [-1.        ],\n",
       "         [-1.        ],\n",
       "         [-1.        ],\n",
       "         [-1.        ],\n",
       "         [-1.        ],\n",
       "         [-1.        ],\n",
       "         [-1.        ],\n",
       "         [-1.        ],\n",
       "         [-1.        ],\n",
       "         [-1.        ],\n",
       "         [-1.        ],\n",
       "         [-1.        ],\n",
       "         [-1.        ],\n",
       "         [-1.        ],\n",
       "         [-1.        ],\n",
       "         [-1.        ],\n",
       "         [-1.        ],\n",
       "         [-1.        ],\n",
       "         [-1.        ],\n",
       "         [-1.        ],\n",
       "         [-1.        ],\n",
       "         [-1.        ],\n",
       "         [-1.        ],\n",
       "         [-1.        ],\n",
       "         [-1.        ],\n",
       "         [-1.        ]],\n",
       "\n",
       "        [[-0.99996847],\n",
       "         [-1.        ],\n",
       "         [-1.        ],\n",
       "         [-1.        ],\n",
       "         [-1.        ],\n",
       "         [-1.        ],\n",
       "         [-1.        ],\n",
       "         [-1.        ],\n",
       "         [-1.        ],\n",
       "         [-1.        ],\n",
       "         [-1.        ],\n",
       "         [-1.        ],\n",
       "         [-1.        ],\n",
       "         [-1.        ],\n",
       "         [-1.        ],\n",
       "         [-1.        ],\n",
       "         [-1.        ],\n",
       "         [-1.        ],\n",
       "         [-1.        ],\n",
       "         [-1.        ],\n",
       "         [-1.        ],\n",
       "         [-1.        ],\n",
       "         [-1.        ],\n",
       "         [-1.        ],\n",
       "         [-1.        ],\n",
       "         [-1.        ],\n",
       "         [-1.        ],\n",
       "         [-1.        ],\n",
       "         [-1.        ],\n",
       "         [-1.        ]],\n",
       "\n",
       "        [[-0.9813323 ],\n",
       "         [-1.        ],\n",
       "         [-1.        ],\n",
       "         [-1.        ],\n",
       "         [-1.        ],\n",
       "         [-1.        ],\n",
       "         [-1.        ],\n",
       "         [-1.        ],\n",
       "         [-1.        ],\n",
       "         [-1.        ],\n",
       "         [-1.        ],\n",
       "         [-1.        ],\n",
       "         [-1.        ],\n",
       "         [-1.        ],\n",
       "         [-1.        ],\n",
       "         [-1.        ],\n",
       "         [-1.        ],\n",
       "         [-1.        ],\n",
       "         [-1.        ],\n",
       "         [-1.        ],\n",
       "         [-1.        ],\n",
       "         [-1.        ],\n",
       "         [-1.        ],\n",
       "         [-1.        ],\n",
       "         [-1.        ],\n",
       "         [-1.        ],\n",
       "         [-1.        ],\n",
       "         [-1.        ],\n",
       "         [-1.        ],\n",
       "         [-1.        ]],\n",
       "\n",
       "        [[-0.95904768],\n",
       "         [-0.99999839],\n",
       "         [-1.        ],\n",
       "         [-1.        ],\n",
       "         [-1.        ],\n",
       "         [-1.        ],\n",
       "         [-1.        ],\n",
       "         [-1.        ],\n",
       "         [-1.        ],\n",
       "         [-1.        ],\n",
       "         [-1.        ],\n",
       "         [-1.        ],\n",
       "         [-1.        ],\n",
       "         [-1.        ],\n",
       "         [-1.        ],\n",
       "         [-1.        ],\n",
       "         [-1.        ],\n",
       "         [-1.        ],\n",
       "         [-1.        ],\n",
       "         [-1.        ],\n",
       "         [-1.        ],\n",
       "         [-1.        ],\n",
       "         [-1.        ],\n",
       "         [-1.        ],\n",
       "         [-1.        ],\n",
       "         [-1.        ],\n",
       "         [-1.        ],\n",
       "         [-1.        ],\n",
       "         [-1.        ],\n",
       "         [-1.        ]],\n",
       "\n",
       "        [[-0.99412274],\n",
       "         [-0.99994308],\n",
       "         [-1.        ],\n",
       "         [-1.        ],\n",
       "         [-1.        ],\n",
       "         [-1.        ],\n",
       "         [-1.        ],\n",
       "         [-1.        ],\n",
       "         [-1.        ],\n",
       "         [-1.        ],\n",
       "         [-1.        ],\n",
       "         [-1.        ],\n",
       "         [-1.        ],\n",
       "         [-1.        ],\n",
       "         [-1.        ],\n",
       "         [-1.        ],\n",
       "         [-1.        ],\n",
       "         [-1.        ],\n",
       "         [-1.        ],\n",
       "         [-1.        ],\n",
       "         [-1.        ],\n",
       "         [-1.        ],\n",
       "         [-1.        ],\n",
       "         [-1.        ],\n",
       "         [-1.        ],\n",
       "         [-1.        ],\n",
       "         [-1.        ],\n",
       "         [-1.        ],\n",
       "         [-1.        ],\n",
       "         [-1.        ]],\n",
       "\n",
       "        [[-0.97894442],\n",
       "         [-0.99826133],\n",
       "         [-0.9999941 ],\n",
       "         [-1.        ],\n",
       "         [-1.        ],\n",
       "         [-1.        ],\n",
       "         [-1.        ],\n",
       "         [-1.        ],\n",
       "         [-1.        ],\n",
       "         [-1.        ],\n",
       "         [-1.        ],\n",
       "         [-1.        ],\n",
       "         [-1.        ],\n",
       "         [-1.        ],\n",
       "         [-1.        ],\n",
       "         [-1.        ],\n",
       "         [-1.        ],\n",
       "         [-1.        ],\n",
       "         [-1.        ],\n",
       "         [-1.        ],\n",
       "         [-1.        ],\n",
       "         [-1.        ],\n",
       "         [-1.        ],\n",
       "         [-1.        ],\n",
       "         [-1.        ],\n",
       "         [-1.        ],\n",
       "         [-1.        ],\n",
       "         [-1.        ],\n",
       "         [-1.        ],\n",
       "         [-1.        ]],\n",
       "\n",
       "        [[-0.80347466],\n",
       "         [-0.94281125],\n",
       "         [-0.99835736],\n",
       "         [-0.99999994],\n",
       "         [-1.        ],\n",
       "         [-1.        ],\n",
       "         [-1.        ],\n",
       "         [-1.        ],\n",
       "         [-1.        ],\n",
       "         [-1.        ],\n",
       "         [-1.        ],\n",
       "         [-1.        ],\n",
       "         [-1.        ],\n",
       "         [-1.        ],\n",
       "         [-1.        ],\n",
       "         [-1.        ],\n",
       "         [-1.        ],\n",
       "         [-1.        ],\n",
       "         [-1.        ],\n",
       "         [-1.        ],\n",
       "         [-1.        ],\n",
       "         [-1.        ],\n",
       "         [-1.        ],\n",
       "         [-1.        ],\n",
       "         [-1.        ],\n",
       "         [-1.        ],\n",
       "         [-1.        ],\n",
       "         [-1.        ],\n",
       "         [-0.99999928],\n",
       "         [-0.99959713]]]], dtype=float32)"
      ]
     },
     "execution_count": 59,
     "metadata": {},
     "output_type": "execute_result"
    }
   ],
   "source": [
    "sample_images(1,1, True)"
   ]
  },
  {
   "cell_type": "code",
   "execution_count": null,
   "metadata": {},
   "outputs": [
    {
     "name": "stdout",
     "output_type": "stream",
     "text": [
      "epoch 300\n",
      "(30, 30, 1)\n"
     ]
    },
    {
     "data": {
      "image/png": "[encoded data removed]",
      "text/plain": [
       "<matplotlib.figure.Figure at 0x7fdf89eb9048>"
      ]
     },
     "metadata": {},
     "output_type": "display_data"
    },
    {
     "data": {
      "image/png": "[encoded data removed]",
      "text/plain": [
       "<matplotlib.figure.Figure at 0x7fdf89e229b0>"
      ]
     },
     "metadata": {},
     "output_type": "display_data"
    }
   ],
   "source": [
    "from IPython import display\n",
    "from tqdm import tnrange\n",
    "\n",
    "for epoch in tnrange(50000):\n",
    "    \n",
    "    feed_dict = {\n",
    "        real_data:sample_data_batch(100),\n",
    "        noise:sample_noise_batch(100)\n",
    "    }\n",
    "    \n",
    "    for i in range(5):\n",
    "        s.run(disc_optimizer,feed_dict)\n",
    "    \n",
    "    s.run(gen_optimizer,feed_dict)\n",
    "    \n",
    "    if epoch % 100==0:\n",
    "        display.clear_output()\n",
    "        print(\"epoch\", epoch)\n",
    "        sample_images(1,1,True)\n",
    "        sample_probas(1000)"
   ]
  },
  {
   "cell_type": "code",
   "execution_count": 229,
   "metadata": {},
   "outputs": [
    {
     "data": {
      "text/plain": [
       "49999"
      ]
     },
     "execution_count": 229,
     "metadata": {},
     "output_type": "execute_result"
    }
   ],
   "source": [
    "epoch"
   ]
  },
  {
   "cell_type": "code",
   "execution_count": 224,
   "metadata": {
    "collapsed": true
   },
   "outputs": [],
   "source": [
    "ims = sample_many_images(10000)"
   ]
  },
  {
   "cell_type": "markdown",
   "metadata": {},
   "source": [
    "What we can see here is that distributions of real data energy and the generated one do not match: generated data is shifted and tails decrease faster."
   ]
  },
  {
   "cell_type": "code",
   "execution_count": 230,
   "metadata": {
    "scrolled": true
   },
   "outputs": [
    {
     "data": {
      "image/png": "[encoded data removed]",
      "text/plain": [
       "<matplotlib.figure.Figure at 0x7fdf89f47d30>"
      ]
     },
     "metadata": {},
     "output_type": "display_data"
    }
   ],
   "source": [
    "plt.hist(np.sum(data, axis=(1,2)), bins=50,range=(-875,-840), alpha=0.5, label=\"real\")\n",
    "plt.hist(np.sum(ims, axis=(1,2)), bins=50, range=(-875,-840), alpha=0.5, label=\"generated\")\n",
    "plt.legend()\n",
    "plt.show()"
   ]
  },
  {
   "cell_type": "code",
   "execution_count": 235,
   "metadata": {},
   "outputs": [
    {
     "data": {
      "image/png": "[encoded data removed]",
      "text/plain": [
       "<matplotlib.figure.Figure at 0x7fdf5adea128>"
      ]
     },
     "metadata": {},
     "output_type": "display_data"
    }
   ],
   "source": [
    "plt.title(\"E0\")\n",
    "plt.hist(np.sum(ims[:,14:16, 14:16], axis=(1,2)),range=(0,4),alpha=0.5, label=\"generated\")\n",
    "plt.hist(np.sum(data[:,14:16, 14:16], axis=(1,2)),range=(0,4), alpha=0.5, label=\"real\")\n",
    "plt.legend()\n",
    "plt.show()"
   ]
  },
  {
   "cell_type": "code",
   "execution_count": 236,
   "metadata": {},
   "outputs": [
    {
     "data": {
      "image/png": "[encoded data removed]",
      "text/plain": [
       "<matplotlib.figure.Figure at 0x7fe0748047f0>"
      ]
     },
     "metadata": {},
     "output_type": "display_data"
    }
   ],
   "source": [
    "support_E1_gen = np.sum(ims[:, 13:17, 13:17],axis=(1,2))- np.sum(ims[:, 14:16, 14:16],axis=(1,2))\n",
    "support_E1_real = np.sum(data[:, 13:17, 13:17],axis=(1,2))- np.sum(data[:, 14:16, 14:16],axis=(1,2))\n",
    "plt.title(\"E1\")\n",
    "plt.hist(support_E1_real,alpha=0.2,label=\"real\")\n",
    "plt.hist(support_E1_gen,alpha=0.2,label=\"generated\")\n",
    "plt.legend()\n",
    "plt.show()"
   ]
  },
  {
   "cell_type": "code",
   "execution_count": 155,
   "metadata": {},
   "outputs": [
    {
     "data": {
      "image/png": "[encoded data removed]",
      "text/plain": [
       "<matplotlib.figure.Figure at 0x7fdf5adfb080>"
      ]
     },
     "metadata": {},
     "output_type": "display_data"
    }
   ],
   "source": [
    "support_E2_gen = np.sum(ims[:, 12:18, 12:18],axis=(1,2))- np.sum(ims[:, 13:17, 13:17],axis=(1,2))\n",
    "support_E2_real = np.sum(data[:, 12:18, 12:18],axis=(1,2))- np.sum(data[:, 13:17, 13:17],axis=(1,2))\n",
    "plt.title(\"E2\")\n",
    "plt.hist(support_E2_real,alpha=0.2,label=\"real\")\n",
    "plt.hist(support_E2_gen,alpha=0.2,label=\"generated\")\n",
    "plt.legend()\n",
    "plt.show()"
   ]
  },
  {
   "cell_type": "code",
   "execution_count": 149,
   "metadata": {},
   "outputs": [
    {
     "data": {
      "image/png": "[encoded data removed]",
      "text/plain": [
       "<matplotlib.figure.Figure at 0x7fe064d837f0>"
      ]
     },
     "metadata": {},
     "output_type": "display_data"
    }
   ],
   "source": [
    "support_E3_gen = np.sum(ims[:, 11:19, 11:19],axis=(1,2))- np.sum(ims[:, 13:17, 13:17],axis=(1,2))\n",
    "support_E3_real = np.sum(data[:, 11:19, 11:19],axis=(1,2))- np.sum(data[:, 13:17, 13:17],axis=(1,2))\n",
    "plt.title(\"E3\")\n",
    "plt.hist(support_E3_real,alpha=0.2,range=(0,4),label=\"real\")\n",
    "plt.hist(support_E3_gen,alpha=0.2, range=(0,4),label=\"generated\")\n",
    "plt.legend()\n",
    "plt.show()"
   ]
  },
  {
   "cell_type": "markdown",
   "metadata": {},
   "source": [
    "Now let's try to show a histogram in the original scale."
   ]
  },
  {
   "cell_type": "code",
   "execution_count": 263,
   "metadata": {},
   "outputs": [
    {
     "name": "stderr",
     "output_type": "stream",
     "text": [
      "/opt/conda/anaconda3/lib/python3.6/site-packages/ipykernel_launcher.py:3: RuntimeWarning: divide by zero encountered in arctanh\n",
      "  This is separate from the ipykernel package so we can avoid doing imports until\n"
     ]
    }
   ],
   "source": [
    "data = np.load(\"data/next.npy\")\n",
    "ims = sample_many_images(10000)\n",
    "ims = np.arctanh(ims)\n",
    "\n",
    "data[np.isinf(data)] = 0\n",
    "ims[np.isinf(ims)] = 0"
   ]
  },
  {
   "cell_type": "code",
   "execution_count": 265,
   "metadata": {},
   "outputs": [
    {
     "data": {
      "image/png": "[encoded data removed]",
      "text/plain": [
       "<matplotlib.figure.Figure at 0x7fdf5bf445c0>"
      ]
     },
     "metadata": {},
     "output_type": "display_data"
    }
   ],
   "source": [
    "plt.title(\"E0\")\n",
    "plt.hist(np.sum(ims[:,14:16, 14:16], axis=(1,2)),alpha=0.5, label=\"generated\")\n",
    "plt.hist(np.sum(data[:,14:16, 14:16], axis=(1,2)), alpha=0.5, label=\"real\")\n",
    "plt.legend()\n",
    "plt.show()"
   ]
  },
  {
   "cell_type": "markdown",
   "metadata": {},
   "source": [
    "As we can see, even if distributions $\\mathrm{E}_0$ match each other perfectly in tanh scale, they might be significantly different in the original scale."
   ]
  },
  {
   "cell_type": "markdown",
   "metadata": {},
   "source": [
    "## Summary\n",
    "\n",
    " * GANs do not learn on the original dataset: it needs to be normalized\n",
    " * GANs generate images from the middle of the shifted distribution. Variance is very low.\n",
    " * Historgarms in the original scale can not be showed due to `inf`'s. Denormalizing generated data to the original scale give no result due to numerical instability."
   ]
  },
  {
   "cell_type": "markdown",
   "metadata": {},
   "source": [
    "## My ideas\n",
    "\n",
    " * We can try to train a GAN with on the original scale, but replace -`inf`'s by zeros"
   ]
  }
 ],
 "metadata": {
  "kernelspec": {
   "display_name": "Python 3",
   "language": "python",
   "name": "python3"
  },
  "language_info": {
   "codemirror_mode": {
    "name": "ipython",
    "version": 3
   },
   "file_extension": ".py",
   "mimetype": "text/x-python",
   "name": "python",
   "nbconvert_exporter": "python",
   "pygments_lexer": "ipython3",
   "version": "3.6.1"
  }
 },
 "nbformat": 4,
 "nbformat_minor": 2
}
